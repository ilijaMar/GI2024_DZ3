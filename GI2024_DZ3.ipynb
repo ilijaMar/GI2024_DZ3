{
 "cells": [
  {
   "cell_type": "markdown",
   "metadata": {},
   "source": [
    "### Učitavanje i predprocesiranje podataka\n",
    "Započinjemo učitavanjem skupa podataka i izvođenje početnih koraka predprocesiranja kao što je filtriranje ćelija i gena, i izračunavanje QC metrike "
   ]
  },
  {
   "cell_type": "code",
   "execution_count": null,
   "metadata": {},
   "outputs": [],
   "source": [
    "import scanpy as sc\n",
    "import anndata as ad\n",
    "import numpy as np\n",
    "import pandas as pd\n",
    "from sklearn.metrics import davies_bouldin_score\n",
    "\n",
    "\n",
    "adata = ad.read_h5ad('GTEX-1HSMQ-5005.h5ad')\n",
    "\n",
    "\n",
    "sc.pp.filter_cells(adata, min_genes=200)\n",
    "sc.pp.filter_genes(adata, min_cells=3)\n",
    "adata.var['mt'] = adata.var_names.str.startswith('MT-')\n",
    "sc.pp.calculate_qc_metrics(adata, qc_vars=[\"mt\"], percent_top=None, log1p=False, inplace=True)\n"
   ]
  },
  {
   "cell_type": "markdown",
   "metadata": {},
   "source": [
    "### Vizualizacija "
   ]
  },
  {
   "cell_type": "code",
   "execution_count": null,
   "metadata": {},
   "outputs": [],
   "source": [
    "sc.pl.violin(adata, [\"n_genes_by_counts\", \"total_counts\", \"pct_counts_mt\"], jitter=0.4, multi_panel=True)\n",
    "sc.pl.scatter(adata, x=\"total_counts\", y=\"pct_counts_mt\")\n",
    "sc.pl.scatter(adata, x=\"total_counts\", y=\"n_genes_by_counts\")"
   ]
  },
  {
   "cell_type": "markdown",
   "metadata": {},
   "source": [
    "### Filtriranje i normalizacija podataka \n",
    "Filtriramo ćelije na osnovu QC metrike i normalizujemo podatke kako bismo osigurali upotrebljivost među uzorcima."
   ]
  },
  {
   "cell_type": "code",
   "execution_count": null,
   "metadata": {},
   "outputs": [],
   "source": [
    "adata = adata[adata.obs.n_genes_by_counts < 2000, :]\n",
    "\n",
    "# Normalizacija podataka\n",
    "sc.pp.normalize_total(adata, target_sum=1e4)\n",
    "sc.pp.log1p(adata)\n",
    "adata.layers['log_norm'] = adata.X.copy()"
   ]
  },
  {
   "cell_type": "markdown",
   "metadata": {},
   "source": [
    "### Identifikacija visoko varijabilnih gena i transformacija podataka\n",
    "Identifikujemo visoko varijabilne gene i izvodimo transformaciju podataka kako bismo uklonili neželjenu varijabilnost."
   ]
  },
  {
   "cell_type": "code",
   "execution_count": null,
   "metadata": {},
   "outputs": [],
   "source": [
    "\n",
    "sc.pp.highly_variable_genes(adata, min_mean=0.0125, max_mean=3, min_disp=0.5)\n",
    "\n",
    "sc.pp.regress_out(adata, ['total_counts', 'pct_counts_mt'])\n",
    "sc.pp.scale(adata, max_value=10)\n"
   ]
  },
  {
   "cell_type": "markdown",
   "metadata": {},
   "source": [
    "### Redukcija dimenzionalnosti i klasterovanje"
   ]
  },
  {
   "cell_type": "code",
   "execution_count": null,
   "metadata": {},
   "outputs": [],
   "source": [
    "\n",
    "sc.tl.pca(adata, svd_solver='arpack')\n",
    "\n",
    "\n",
    "sc.tl.umap(adata)\n",
    "\n",
    "\n",
    "sc.tl.leiden(adata)\n"
   ]
  },
  {
   "cell_type": "markdown",
   "metadata": {},
   "source": [
    "### Računanje Davies-Bouldin score-a i poređenje"
   ]
  },
  {
   "cell_type": "code",
   "execution_count": null,
   "metadata": {},
   "outputs": [],
   "source": [
    "\n",
    "umap_clusters = adata.obs['leiden'].values\n",
    "umap_embedding = adata.obsm['X_umap']\n",
    "db_score_normalized = davies_bouldin_score(umap_embedding, umap_clusters)\n",
    "\n",
    "print(f\"Davies-Bouldin skor sa normalizacijom: {db_score_normalized}\")\n",
    "\n",
    "\n",
    "adata_raw = adata.raw.to_adata()  \n",
    "\n",
    "\n",
    "sc.tl.pca(adata_raw, svd_solver='arpack')\n",
    "sc.tl.umap(adata_raw)\n",
    "sc.tl.leiden(adata_raw)\n",
    "\n",
    "\n",
    "umap_clusters_raw = adata_raw.obs['leiden'].values\n",
    "umap_embedding_raw = adata_raw.obsm['X_umap']\n",
    "db_score_raw = davies_bouldin_score(umap_embedding_raw, umap_clusters_raw)\n",
    "\n",
    "print(f\"Davies-Bouldin skor bez normalizacije: {db_score_raw}\")\n",
    "\n",
    "\n",
    "if db_score_normalized < db_score_raw:\n",
    "    print(\"Klasterovanje sa normalizacijom je rezultovalo bolje definisanim klasterima.\")\n",
    "else:\n",
    "    print(\"Klasterovanje bez normalizacije je rezultovalo bolje definisanim klasterima.\")\n"
   ]
  }
 ],
 "metadata": {
  "kernelspec": {
   "display_name": "Python 3",
   "language": "python",
   "name": "python3"
  },
  "language_info": {
   "codemirror_mode": {
    "name": "ipython",
    "version": 3
   },
   "file_extension": ".py",
   "mimetype": "text/x-python",
   "name": "python",
   "nbconvert_exporter": "python",
   "pygments_lexer": "ipython3",
   "version": "3.10.12"
  }
 },
 "nbformat": 4,
 "nbformat_minor": 2
}
